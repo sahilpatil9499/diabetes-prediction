{
 "cells": [
  {
   "cell_type": "code",
   "execution_count": null,
   "metadata": {},
   "outputs": [],
   "source": [
    "# !pip install scikit-fuzzy"
   ]
  },
  {
   "cell_type": "code",
   "execution_count": 1,
   "metadata": {},
   "outputs": [],
   "source": [
    "import pickle\n",
    "from keras.models import load_model"
   ]
  },
  {
   "cell_type": "code",
   "execution_count": 2,
   "metadata": {},
   "outputs": [
    {
     "name": "stderr",
     "output_type": "stream",
     "text": [
      "c:\\Users\\lokes\\AppData\\Local\\Programs\\Python\\Python311\\Lib\\site-packages\\sklearn\\base.py:348: InconsistentVersionWarning: Trying to unpickle estimator LogisticRegression from version 1.2.2 when using version 1.3.2. This might lead to breaking code or invalid results. Use at your own risk. For more info please refer to:\n",
      "https://scikit-learn.org/stable/model_persistence.html#security-maintainability-limitations\n",
      "  warnings.warn(\n",
      "c:\\Users\\lokes\\AppData\\Local\\Programs\\Python\\Python311\\Lib\\site-packages\\sklearn\\base.py:348: InconsistentVersionWarning: Trying to unpickle estimator SVC from version 1.2.2 when using version 1.3.2. This might lead to breaking code or invalid results. Use at your own risk. For more info please refer to:\n",
      "https://scikit-learn.org/stable/model_persistence.html#security-maintainability-limitations\n",
      "  warnings.warn(\n"
     ]
    }
   ],
   "source": [
    "X_test = pickle.load(open(\"x_test.pkl\",\"rb\"))\n",
    "log_reg = pickle.load(open(\"log_reg.pkl\",\"rb\"))\n",
    "svm = pickle.load(open(\"svm.pkl\",\"rb\"))\n"
   ]
  },
  {
   "cell_type": "code",
   "execution_count": 3,
   "metadata": {},
   "outputs": [
    {
     "name": "stderr",
     "output_type": "stream",
     "text": [
      "c:\\Users\\lokes\\AppData\\Local\\Programs\\Python\\Python311\\Lib\\site-packages\\sklearn\\base.py:348: InconsistentVersionWarning: Trying to unpickle estimator StandardScaler from version 1.2.2 when using version 1.3.2. This might lead to breaking code or invalid results. Use at your own risk. For more info please refer to:\n",
      "https://scikit-learn.org/stable/model_persistence.html#security-maintainability-limitations\n",
      "  warnings.warn(\n"
     ]
    }
   ],
   "source": [
    "scaler = pickle.load(open(\"scaler.pkl\",\"rb\"))"
   ]
  },
  {
   "cell_type": "code",
   "execution_count": null,
   "metadata": {},
   "outputs": [],
   "source": [
    "# diabetes_prediction_simulator = pickle.load(open(\"diabetes_prediction_simulator.pkl\",\"rb\"))"
   ]
  },
  {
   "cell_type": "code",
   "execution_count": 4,
   "metadata": {},
   "outputs": [],
   "source": [
    "ann = load_model(\"ann_model.h5\")"
   ]
  },
  {
   "cell_type": "code",
   "execution_count": 5,
   "metadata": {},
   "outputs": [],
   "source": [
    "import numpy as np\n",
    "import skfuzzy as fuzz\n",
    "import skfuzzy.control as ctrl\n",
    "\n",
    "log_result = ctrl.Antecedent(np.arange(0, 2, 1), 'log_Result')\n",
    "svm_result = ctrl.Antecedent(np.arange(0, 2, 1), 'SVM_Result')\n",
    "ann_result = ctrl.Antecedent(np.arange(0, 2, 1), 'ANN_Result')\n",
    "diabetes_prediction = ctrl.Consequent(np.arange(0, 2, 1), 'Diabetes_Prediction')\n",
    "\n",
    "# Define membership functions for Antecedents and Consequent\n",
    "log_result['Positive'] = fuzz.trimf(log_result.universe, [0, 0, 1])\n",
    "log_result['Negative'] = fuzz.trimf(log_result.universe, [0, 1, 1])\n",
    "svm_result['Positive'] = fuzz.trimf(svm_result.universe, [0, 0, 1])\n",
    "svm_result['Negative'] = fuzz.trimf(svm_result.universe, [0, 1, 1])\n",
    "ann_result['Positive'] = fuzz.trimf(ann_result.universe, [0, 0, 1])\n",
    "ann_result['Negative'] = fuzz.trimf(ann_result.universe, [0, 1, 1])\n",
    "diabetes_prediction['Positive'] = fuzz.trimf(diabetes_prediction.universe, [0, 0, 1])\n",
    "diabetes_prediction['Negative'] = fuzz.trimf(diabetes_prediction.universe, [0, 1, 1])\n",
    "\n",
    "    # Define rules for fuzzy inference\n",
    "rule1 = ctrl.Rule(log_result['Positive'] & svm_result['Positive'] & ann_result['Positive'], diabetes_prediction['Positive'])\n",
    "rule2 = ctrl.Rule(log_result['Positive'] & svm_result['Positive'] & ann_result['Negative'], diabetes_prediction['Positive'])\n",
    "rule3 = ctrl.Rule(log_result['Positive'] & svm_result['Negative'] & ann_result['Positive'], diabetes_prediction['Positive'])\n",
    "rule4 = ctrl.Rule(log_result['Positive'] & svm_result['Negative'] & ann_result['Negative'], diabetes_prediction['Negative'])\n",
    "rule5 = ctrl.Rule(log_result['Negative'] & svm_result['Positive'] & ann_result['Positive'], diabetes_prediction['Positive'])\n",
    "rule6 = ctrl.Rule(log_result['Negative'] & svm_result['Positive'] & ann_result['Negative'], diabetes_prediction['Negative'])\n",
    "rule7 = ctrl.Rule(log_result['Negative'] & svm_result['Negative'] & ann_result['Positive'], diabetes_prediction['Negative'])\n",
    "rule8 = ctrl.Rule(log_result['Negative'] & svm_result['Negative'] & ann_result['Negative'], diabetes_prediction['Negative'])\n",
    "\n",
    "    # Create control system and simulation\n",
    "diabetes_ctrl = ctrl.ControlSystem([rule1, rule2, rule3, rule4, rule5, rule6, rule7, rule8])\n",
    "diabetes_prediction_simulator = ctrl.ControlSystemSimulation(diabetes_ctrl)"
   ]
  },
  {
   "cell_type": "code",
   "execution_count": 6,
   "metadata": {},
   "outputs": [],
   "source": [
    "def fuzzy_logic_model(log_pred, svm_pred, ann_pred):\n",
    "    # Define Antecedents and Consequent for fuzzy logic system\n",
    "    diabetes_prediction_simulator.input['log_Result'] = log_pred\n",
    "    diabetes_prediction_simulator.input['SVM_Result'] = svm_pred\n",
    "    diabetes_prediction_simulator.input['ANN_Result'] = ann_pred\n",
    "    diabetes_prediction_simulator.compute()\n",
    "    fuzzy_prediction = np.round(diabetes_prediction_simulator.output['Diabetes_Prediction']).astype(int)\n",
    "    return fuzzy_prediction\n"
   ]
  },
  {
   "cell_type": "code",
   "execution_count": 7,
   "metadata": {},
   "outputs": [],
   "source": [
    "def predict(data):\n",
    "    log_pred = log_reg.predict(np.array([data]))\n",
    "    svm_pred = svm.predict(np.array([data]))\n",
    "    ann_pred = ann.predict(np.array([data]))\n",
    "    return fuzzy_logic_model(log_pred,svm_pred,ann_pred)[0][0]"
   ]
  },
  {
   "cell_type": "code",
   "execution_count": 8,
   "metadata": {},
   "outputs": [
    {
     "name": "stdout",
     "output_type": "stream",
     "text": [
      "1/1 [==============================] - 0s 128ms/step\n"
     ]
    },
    {
     "name": "stderr",
     "output_type": "stream",
     "text": [
      "c:\\Users\\lokes\\AppData\\Local\\Programs\\Python\\Python311\\Lib\\site-packages\\skfuzzy\\control\\controlsystem.py:178: UserWarning: Input array is shape (1, 1), which is different from previous array(s) which were (1,).  This may cause problems, unless you are replacing all inputs.\n",
      "  warn(\"Input array is shape {0}, which is different from \"\n"
     ]
    },
    {
     "data": {
      "text/plain": [
       "0"
      ]
     },
     "execution_count": 8,
     "metadata": {},
     "output_type": "execute_result"
    }
   ],
   "source": [
    "predict(X_test[0])"
   ]
  },
  {
   "cell_type": "code",
   "execution_count": 9,
   "metadata": {},
   "outputs": [],
   "source": [
    "import pandas as pd"
   ]
  },
  {
   "cell_type": "code",
   "execution_count": 10,
   "metadata": {},
   "outputs": [],
   "source": [
    "def perform_one_hot_encoding(df):\n",
    "    cols = ['age', 'hypertension', 'heart_disease', 'bmi', 'HbA1c_level',\n",
    "       'blood_glucose_level', 'gender_Female', 'gender_Male',\n",
    "       'smoking_history_current', 'smoking_history_non-smoker',\n",
    "       'smoking_history_past_smoker']\n",
    "    \n",
    "    vals = [df[\"age\"].iloc[0],df[\"hypertension\"].iloc[0],df[\"heart_disease\"].iloc[0],df[\"bmi\"].iloc[0],df[\"HbA1c_level\"].iloc[0],df[\"blood_glucose_level\"].iloc[0],1 if df[\"gender\"].iloc[0] == \"Female\" else 0,1 if df[\"gender\"].iloc[0] == \"Male\" else 0,\n",
    "            1 if df[\"smoking_history\"].iloc[0] == \"current\" else 0,1 if df[\"smoking_history\"].iloc[0] == \"non-smoker\" else 0,1 if df[\"smoking_history\"].iloc[0] == \"past_smoker\" else 0]\n",
    " \n",
    "    d = pd.DataFrame([vals],columns=cols)\n",
    "    return d"
   ]
  },
  {
   "cell_type": "code",
   "execution_count": 11,
   "metadata": {},
   "outputs": [],
   "source": [
    "columns = ['gender', 'age', 'hypertension', 'heart_disease', 'smoking_history',\n",
    "       'bmi', 'HbA1c_level', 'blood_glucose_level', 'diabetes']"
   ]
  },
  {
   "cell_type": "code",
   "execution_count": 12,
   "metadata": {},
   "outputs": [],
   "source": [
    "base_data = ['Female', 80.0, 0, 1, 'non-smoker', 25.19, 6.6, 140, 0]"
   ]
  },
  {
   "cell_type": "code",
   "execution_count": 13,
   "metadata": {},
   "outputs": [],
   "source": [
    "data = pd.DataFrame([base_data],columns=columns)"
   ]
  },
  {
   "cell_type": "code",
   "execution_count": null,
   "metadata": {},
   "outputs": [],
   "source": [
    "predict(scaler.transform(perform_one_hot_encoding(data))[0])"
   ]
  },
  {
   "cell_type": "code",
   "execution_count": null,
   "metadata": {},
   "outputs": [],
   "source": []
  }
 ],
 "metadata": {
  "kernelspec": {
   "display_name": "base",
   "language": "python",
   "name": "python3"
  },
  "language_info": {
   "codemirror_mode": {
    "name": "ipython",
    "version": 3
   },
   "file_extension": ".py",
   "mimetype": "text/x-python",
   "name": "python",
   "nbconvert_exporter": "python",
   "pygments_lexer": "ipython3",
   "version": "3.11.8"
  }
 },
 "nbformat": 4,
 "nbformat_minor": 2
}
